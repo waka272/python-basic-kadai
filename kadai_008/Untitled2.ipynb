{
  "nbformat": 4,
  "nbformat_minor": 0,
  "metadata": {
    "colab": {
      "provenance": []
    },
    "kernelspec": {
      "name": "python3",
      "display_name": "Python 3"
    },
    "language_info": {
      "name": "python"
    }
  },
  "cells": [
    {
      "cell_type": "code",
      "execution_count": 15,
      "metadata": {
        "colab": {
          "base_uri": "https://localhost:8080/"
        },
        "id": "KxW37pm9-TsZ",
        "outputId": "f4dd2fd5-23f5-418c-a6cd-d21b56f01fcb"
      },
      "outputs": [
        {
          "output_type": "stream",
          "name": "stdout",
          "text": [
            "40\n",
            "Buzz\n"
          ]
        }
      ],
      "source": [
        "# ランダムな整数を利用するために、randomモジュールをインポート\n",
        "import random\n",
        "\n",
        "# 変数var に、1から100までの整数を代入する\n",
        "var=random.randint(1,100)\n",
        "\n",
        "# 変数var の値を出力\n",
        "print(var)\n",
        "\n",
        "# 3の倍数の場合は「Fizz」を出力\n",
        "if var%3==0 and var%5==0:\n",
        "  print(\"FizzBuzz\")\n",
        "elif var%3==0 :\n",
        "  print(\"Fizz\")\n",
        "elif var%5 == 0:\n",
        "  print(\"Buzz\")\n",
        "# elif var%3==0 and var%5==0:\n",
        "  # print(\"FizzBuzz\")\n",
        "else:\n",
        "  print(var)\n"
      ]
    }
  ]
}