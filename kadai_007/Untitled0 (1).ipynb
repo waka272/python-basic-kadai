{
  "nbformat": 4,
  "nbformat_minor": 0,
  "metadata": {
    "colab": {
      "provenance": []
    },
    "kernelspec": {
      "name": "python3",
      "display_name": "Python 3"
    },
    "language_info": {
      "name": "python"
    }
  },
  "cells": [
    {
      "cell_type": "markdown",
      "source": [],
      "metadata": {
        "id": "aXWqWj3Q0Clv"
      }
    },
    {
      "cell_type": "code",
      "source": [
        "# リストを作る\n",
        "array=[\"月曜日は晴れです\",\"火曜日は雨です\",\"水曜日は腫れです\",\"木曜日は腫れです\",\"金曜日は曇りです\",\"土曜日は曇りのち雨です\",\"日曜日は雷雨です\"]\n",
        "#　水曜日の天気予報を取り出す\n",
        "print(array[2])\n",
        "\n",
        "# ディクショナリを作る\n",
        "dictionary={\"mon\":\"晴れ\",\"tue\":\"雨\",\"wed\":\"晴れ\",\"thu\":\"晴れ\",\"fri\":\"曇り\",\"sat\":\"曇りのち雨\",\"sun\":\"雷雨\"}\n",
        "# 水曜日の天気予報を取り出す\n",
        "print(dictionary[\"wed\"])\n"
      ],
      "metadata": {
        "colab": {
          "base_uri": "https://localhost:8080/"
        },
        "id": "ZtuHi_n40DX7",
        "outputId": "5a9c9ca3-612b-43ef-ddec-7f99be726d9d"
      },
      "execution_count": 11,
      "outputs": [
        {
          "output_type": "stream",
          "name": "stdout",
          "text": [
            "水曜日は腫れです\n",
            "晴れ\n"
          ]
        }
      ]
    }
  ]
}