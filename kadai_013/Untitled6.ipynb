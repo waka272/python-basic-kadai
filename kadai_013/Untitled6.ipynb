{
  "nbformat": 4,
  "nbformat_minor": 0,
  "metadata": {
    "colab": {
      "provenance": []
    },
    "kernelspec": {
      "name": "python3",
      "display_name": "Python 3"
    },
    "language_info": {
      "name": "python"
    }
  },
  "cells": [
    {
      "cell_type": "code",
      "execution_count": 4,
      "metadata": {
        "colab": {
          "base_uri": "https://localhost:8080/"
        },
        "id": "2qiVlgdOebnw",
        "outputId": "f97222fc-a498-4790-f73c-86a69e7a74f1"
      },
      "outputs": [
        {
          "output_type": "stream",
          "name": "stdout",
          "text": [
            "132.0円\n"
          ]
        }
      ],
      "source": [
        "def calcurate_total(price,tax):\n",
        "  tax_a=tax/100\n",
        "  total=price*(1+tax_a)\n",
        "  print(f\"{total}円\")\n",
        "\n",
        "calcurate_total(120,10)"
      ]
    }
  ]
}