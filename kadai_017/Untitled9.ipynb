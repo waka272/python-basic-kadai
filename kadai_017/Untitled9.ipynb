{
  "nbformat": 4,
  "nbformat_minor": 0,
  "metadata": {
    "colab": {
      "provenance": []
    },
    "kernelspec": {
      "name": "python3",
      "display_name": "Python 3"
    },
    "language_info": {
      "name": "python"
    }
  },
  "cells": [
    {
      "cell_type": "code",
      "execution_count": 2,
      "metadata": {
        "colab": {
          "base_uri": "https://localhost:8080/"
        },
        "id": "DBk2ATIHyPzh",
        "outputId": "d05385ca-0407-4f4e-e1f3-bc67789ae051"
      },
      "outputs": [
        {
          "output_type": "stream",
          "name": "stdout",
          "text": [
            "花子は大人です\n",
            "ちゃいろは大人ではない\n",
            "めけは大人です\n"
          ]
        }
      ],
      "source": [
        "class Human:\n",
        "  def __init__(self,name,age):\n",
        "    self.name=name\n",
        "    self.age=age\n",
        "\n",
        "  def check_adult(self):\n",
        "    if self.age>=20:\n",
        "      print(f\"{self.name}は大人です\")\n",
        "    else:\n",
        "      print(f\"{self.name}は大人ではない\")\n",
        "\n",
        "# 複数のインスタンスを作成\n",
        "people=[Human(\"花子\",25),Human(\"ちゃいろ\",9),Human(\"めけ\",20)]\n",
        "\n",
        "# リストの要素数分だけメソッド呼び出し\n",
        "for hito in people:\n",
        "  hito.check_adult()\n",
        "\n",
        "\n",
        "\n",
        "\n"
      ]
    }
  ]
}