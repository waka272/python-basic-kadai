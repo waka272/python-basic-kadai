{
  "nbformat": 4,
  "nbformat_minor": 0,
  "metadata": {
    "colab": {
      "provenance": []
    },
    "kernelspec": {
      "name": "python3",
      "display_name": "Python 3"
    },
    "language_info": {
      "name": "python"
    }
  },
  "cells": [
    {
      "cell_type": "code",
      "execution_count": 2,
      "metadata": {
        "colab": {
          "base_uri": "https://localhost:8080/"
        },
        "id": "0LDpUdO89Ydx",
        "outputId": "cc976e91-c510-4169-f506-ce7235197d0d"
      },
      "outputs": [
        {
          "output_type": "stream",
          "name": "stdout",
          "text": [
            "さむらい 56\n"
          ]
        }
      ],
      "source": [
        "class Human:\n",
        "  def __init__(self,name,age):\n",
        "    # 属性を定義\n",
        "    self.name=name\n",
        "    self.age=age\n",
        "\n",
        "  # メソッドを定義する\n",
        "  def printinfo(self):\n",
        "    print(self.name,self.age)\n",
        "\n",
        "# インスタンス作成\n",
        "person=Human(\"さむらい\",56)\n",
        "\n",
        "person.printinfo()"
      ]
    }
  ]
}